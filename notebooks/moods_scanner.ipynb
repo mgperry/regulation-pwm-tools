{
 "cells": [
  {
   "cell_type": "markdown",
   "source": [
    "# Load SELEX Matricies and Run MOODS from Python\n",
    "\n",
    "We're going to load the SELEX matricies from Regulation into Python, and output them as nicely formatted JSON. Then we'll select the first 50 matricies, and use this to scan some enhancer sequences (also loaded into Python, not using the file system)."
   ],
   "metadata": {}
  },
  {
   "cell_type": "code",
   "execution_count": 1,
   "source": [
    "import os\n",
    "import itertools\n",
    "import csv\n",
    "import random\n",
    "import json\n",
    "from multiprocessing import Pool\n",
    "from pathlib import Path\n",
    "from tfbs.pfm_reader import pfm_reader\n",
    "from tfbs.moods import PWM, Scanner, iter_fasta\n"
   ],
   "outputs": [],
   "metadata": {}
  },
  {
   "cell_type": "code",
   "execution_count": 2,
   "source": [
    "SELEX = Path(\"/home/malcolm/Data/Regulation/PWMs/SELEX\")\n",
    "\n",
    "# build an iterator that makes everything look like one big file\n",
    "def load_pfms(d: Path):\n",
    "    for pfm_file in d.iterdir():\n",
    "        with open(pfm_file) as f:\n",
    "            yield [pfm_file.stem, *f.readlines()]\n",
    "\n",
    "\n",
    "pfm_iter = pfm_reader(itertools.chain.from_iterable(load_pfms(SELEX / \"matrices\")))\n",
    "\n",
    "# read in SELEX PFMs and index by file name\n",
    "SELEX_pfms = []\n",
    "\n",
    "for pfm in pfm_iter:\n",
    "    pfm[\"id\"] = pfm[\"info\"][0]\n",
    "    SELEX_pfms.append(pfm)\n",
    "\n",
    "# unfortunately it does not seem trivial to tell python not to split the PFMs by line\n",
    "print(json.dumps(SELEX_pfms[0], indent=4))\n"
   ],
   "outputs": [
    {
     "output_type": "stream",
     "name": "stdout",
     "text": [
      "{\n",
      "    \"info\": [\n",
      "        \"HOXD12_HOXA3_AAB_TCTGTG40NAGA_NTAATKRSNMRTAAAN_m1_c3\"\n",
      "    ],\n",
      "    \"PFM\": [\n",
      "        [\n",
      "            201,\n",
      "            219,\n",
      "            1439,\n",
      "            1439,\n",
      "            166,\n",
      "            57,\n",
      "            455,\n",
      "            408,\n",
      "            18,\n",
      "            887,\n",
      "            1105,\n",
      "            17,\n",
      "            1439,\n",
      "            1439,\n",
      "            1439,\n",
      "            567\n",
      "        ],\n",
      "        [\n",
      "            622,\n",
      "            65,\n",
      "            67,\n",
      "            70,\n",
      "            150,\n",
      "            183,\n",
      "            44,\n",
      "            630,\n",
      "            388,\n",
      "            552,\n",
      "            41,\n",
      "            0,\n",
      "            132,\n",
      "            12,\n",
      "            188,\n",
      "            412\n",
      "        ],\n",
      "        [\n",
      "            200,\n",
      "            39,\n",
      "            199,\n",
      "            56,\n",
      "            493,\n",
      "            609,\n",
      "            985,\n",
      "            809,\n",
      "            20,\n",
      "            252,\n",
      "            334,\n",
      "            21,\n",
      "            0,\n",
      "            1,\n",
      "            48,\n",
      "            246\n",
      "        ],\n",
      "        [\n",
      "            416,\n",
      "            1439,\n",
      "            486,\n",
      "            116,\n",
      "            1439,\n",
      "            830,\n",
      "            29,\n",
      "            77,\n",
      "            1013,\n",
      "            151,\n",
      "            127,\n",
      "            1439,\n",
      "            347,\n",
      "            173,\n",
      "            173,\n",
      "            215\n",
      "        ]\n",
      "    ],\n",
      "    \"id\": \"HOXD12_HOXA3_AAB_TCTGTG40NAGA_NTAATKRSNMRTAAAN_m1_c3\"\n",
      "}\n"
     ]
    }
   ],
   "metadata": {}
  },
  {
   "cell_type": "markdown",
   "source": [
    "Now we can select the PWMs we want to scan, in this case 50 random PWMs from the SELEX data:"
   ],
   "metadata": {}
  },
  {
   "cell_type": "code",
   "execution_count": 3,
   "source": [
    "chosen_pfms = random.choices(SELEX_pfms, k=50)\n"
   ],
   "outputs": [],
   "metadata": {}
  },
  {
   "cell_type": "code",
   "execution_count": 4,
   "source": [
    "\n",
    "PWMs = [PWM(p[\"PFM\"], p[\"id\"], threshold=(\"pvalue\", 0.0001)) for p in chosen_pfms]"
   ],
   "outputs": [],
   "metadata": {}
  },
  {
   "cell_type": "markdown",
   "source": [
    "Build the Scanner object:"
   ],
   "metadata": {}
  },
  {
   "cell_type": "code",
   "execution_count": 5,
   "source": [
    "s = Scanner(PWMs)"
   ],
   "outputs": [],
   "metadata": {}
  },
  {
   "cell_type": "markdown",
   "source": [
    "Read in the fasta sequences:"
   ],
   "metadata": {}
  },
  {
   "cell_type": "code",
   "execution_count": 6,
   "source": [
    "seqs = iter_fasta(\"fasta/ENCFF503GCK_chr11.fa\")\n",
    "\n",
    "def scan(fa: tuple[str, str]): return s.scan(fa)\n",
    "\n",
    "with Pool(16) as p:\n",
    "    results = list(p.map(scan, seqs))\n"
   ],
   "outputs": [],
   "metadata": {}
  },
  {
   "cell_type": "markdown",
   "source": [
    "Now we have a list of hits for each sequence:"
   ],
   "metadata": {}
  },
  {
   "cell_type": "code",
   "execution_count": 7,
   "source": [
    "results[:10]"
   ],
   "outputs": [
    {
     "output_type": "execute_result",
     "data": {
      "text/plain": [
       "[{'header': 'chr11:87214:87280:ID11.100666', 'hits': []},\n",
       " {'header': 'chr11:87240:87307:ID11.100675', 'hits': []},\n",
       " {'header': 'chr11:108018:108077:ID11.10073',\n",
       "  'hits': [Hit(TF='FLI1_V_TCTAAT20NCG_NTCGTAAATGCN_m1_c2_elife2014', start=21, end=33, score=6.434171621506307, strand='+')]},\n",
       " {'header': 'chr11:108060:108095:ID11.10078',\n",
       "  'hits': [Hit(TF='MYBL1_MAX_AX_TCCTTG40NGGT_YAACGGNNNNNNNNNNNCACGTG_m1_c2', start=9, end=32, score=6.118261961082351, strand='+')]},\n",
       " {'header': 'chr11:110913:111017:ID11.10083', 'hits': []},\n",
       " {'header': 'chr11:128422:128507:ID11.100883', 'hits': []},\n",
       " {'header': 'chr11:130594:130654:ID11.100888', 'hits': []},\n",
       " {'header': 'chr11:131180:131340:ID11.100893',\n",
       "  'hits': [Hit(TF='TFAP2C_DLX3_AY_TTGCAT40NTGG_NSCCNNNRGGCANNNNNNTAATKR_m1_c3', start=88, end=112, score=7.865389803174972, strand='-')]},\n",
       " {'header': 'chr11:132586:132706:ID11.100898',\n",
       "  'hits': [Hit(TF='POU1F1_AI_TACACC40NCAC_NWTATGCWAATKAG_m1_c3_Cell2013', start=20, end=34, score=7.406128538100299, strand='+'),\n",
       "   Hit(TF='TEAD4_HOXB13_AY_TCTATG40NTAG_CYAATAAAATGYN_m1_c3', start=83, end=96, score=8.426606045916373, strand='-'),\n",
       "   Hit(TF='POU2F1_HOXB13_AX_TACATT40NTAC_NRMATATACCAATAAA_m2_c2', start=26, end=42, score=9.084878718667925, strand='-')]},\n",
       " {'header': 'chr11:146780:146870:ID11.10107',\n",
       "  'hits': [Hit(TF='FOXJ2_HOXB13_AAF_TACGCA40NAAT_NTTTATNRNTMAACA_m1_c2', start=66, end=81, score=7.347840094955376, strand='-')]}]"
      ]
     },
     "metadata": {},
     "execution_count": 7
    }
   ],
   "metadata": {}
  },
  {
   "cell_type": "markdown",
   "source": [
    "We can output or store this however we want, in this case we can convert to chromosomal co-ordinates in a BED-like file:\n",
    "\n",
    "NB I have no idea if the MOODS output is 0 or 1 based, we will have to test this."
   ],
   "metadata": {}
  },
  {
   "cell_type": "code",
   "execution_count": 8,
   "source": [
    "header = [\"chr\", \"start\", \"end\", \"name\", \"score\", \"strand\", \"PWM\"]\n",
    "\n",
    "print(\"\\t\".join(header))\n",
    "\n",
    "for r in results[:50]:\n",
    "    chrom, start, end, name = r['header'].split(':')\n",
    "    for h in r['hits']:\n",
    "        h_start = int(start) + h.start\n",
    "        h_end = int(start) + h.end\n",
    "        print(\"\\t\".join(map(str, [chrom, h_start, h_end, name, h.score, h.strand, h.TF])))"
   ],
   "outputs": [
    {
     "output_type": "stream",
     "name": "stdout",
     "text": [
      "chr\tstart\tend\tname\tscore\tstrand\tPWM\n",
      "chr11\t108039\t108051\tID11.10073\t6.434171621506307\t+\tFLI1_V_TCTAAT20NCG_NTCGTAAATGCN_m1_c2_elife2014\n",
      "chr11\t108069\t108092\tID11.10078\t6.118261961082351\t+\tMYBL1_MAX_AX_TCCTTG40NGGT_YAACGGNNNNNNNNNNNCACGTG_m1_c2\n",
      "chr11\t131268\t131292\tID11.100893\t7.865389803174972\t-\tTFAP2C_DLX3_AY_TTGCAT40NTGG_NSCCNNNRGGCANNNNNNTAATKR_m1_c3\n",
      "chr11\t132606\t132620\tID11.100898\t7.406128538100299\t+\tPOU1F1_AI_TACACC40NCAC_NWTATGCWAATKAG_m1_c3_Cell2013\n",
      "chr11\t132669\t132682\tID11.100898\t8.426606045916373\t-\tTEAD4_HOXB13_AY_TCTATG40NTAG_CYAATAAAATGYN_m1_c3\n",
      "chr11\t132612\t132628\tID11.100898\t9.084878718667925\t-\tPOU2F1_HOXB13_AX_TACATT40NTAC_NRMATATACCAATAAA_m2_c2\n",
      "chr11\t146846\t146861\tID11.10107\t7.347840094955376\t-\tFOXJ2_HOXB13_AAF_TACGCA40NAAT_NTTTATNRNTMAACA_m1_c2\n",
      "chr11\t175109\t175137\tID11.101262\t6.348688502676113\t+\tTEAD4_RFX5_AY_TCGGTT40NTGT_RCATTCNNNNNNNNNNNNNNNNGCAACN_m1_c2\n",
      "chr11\t175965\t175984\tID11.101269\t3.9136364221884934\t+\tESRRA_AI_TGACGA30NGCA_SAAGGTCANNTSAAGGTCA_m2_c4_Cell2013\n",
      "chr11\t179821\t179839\tID11.101274\t7.849784874427442\t+\tHOXB13_TBX3_AAD_TGGCCA40NTTC_NNNRTAAANNTNACACYN_m1_c2\n",
      "chr11\t184417\t184436\tID11.101279\t8.109619336038937\t+\tTEAD4_SOX6_AY_TGAGAT40NAGA_NNACAATNNNNNNGAATGY_m1_c3\n",
      "chr11\t186304\t186317\tID11.101282\t8.80424533637568\t-\tELK1_EOMES_AAA_TGAGTC40NAAC_TNRCACCGGAAGN_m1_c2\n",
      "chr11\t186353\t186366\tID11.101282\t8.80424533637568\t-\tELK1_EOMES_AAA_TGAGTC40NAAC_TNRCACCGGAAGN_m1_c2\n",
      "chr11\t186402\t186415\tID11.101282\t11.305911734328056\t-\tELK1_EOMES_AAA_TGAGTC40NAAC_TNRCACCGGAAGN_m1_c2\n",
      "chr11\t186357\t186377\tID11.101282\t7.898656559942549\t-\tETV2_ONECUT2_AAA_TACTAC40NGCC_RCCGGAANNNNNNATCGATN_m1_c3\n",
      "chr11\t186402\t186415\tID11.101284\t11.305911734328056\t-\tELK1_EOMES_AAA_TGAGTC40NAAC_TNRCACCGGAAGN_m1_c2\n",
      "chr11\t186406\t186426\tID11.101284\t7.898656559942549\t-\tETV2_ONECUT2_AAA_TACTAC40NGCC_RCCGGAANNNNNNATCGATN_m1_c3\n",
      "chr11\t189562\t189588\tID11.101286\t4.837521632021821\t+\tE2F1_NHLH1_AX_TGCTTT40NAGA_SGCGCCNNNNNNNNNNNNCAGCTGNN_m1_c3b1\n",
      "chr11\t193129\t193155\tID11.101296\t4.620920482933449\t-\tE2F1_NHLH1_AX_TGCTTT40NAGA_SGCGCCNNNNNNNNNNNNCAGCTGNN_m1_c3b1\n",
      "chr11\t197152\t197171\tID11.101308\t8.597967458231796\t-\tGCM1_FIGLA_AX_TCGAAC40NGAT_CAGCTGNNNNNNCCCGCAY_m1_c3\n",
      "chr11\t196944\t196965\tID11.101308\t8.356163941759876\t+\tGCM1_NHLH1_AX_TCTCGT40NGCC_NCAGCTGNNNNNNNNTRCGGG_m1_c3b1\n",
      "chr11\t197457\t197483\tID11.101313\t5.556898846413968\t+\tE2F1_NHLH1_AX_TGCTTT40NAGA_SGCGCCNNNNNNNNNNNNCAGCTGNN_m1_c3b1\n",
      "chr11\t197152\t197171\tID11.101313\t8.597967458231796\t-\tGCM1_FIGLA_AX_TCGAAC40NGAT_CAGCTGNNNNNNCCCGCAY_m1_c3\n",
      "chr11\t197268\t197287\tID11.101313\t4.98972572575749\t-\tGCM1_FIGLA_AX_TCGAAC40NGAT_CAGCTGNNNNNNCCCGCAY_m1_c3\n",
      "chr11\t197682\t197699\tID11.101313\t-2.1693974733833037\t-\tEsrra_AC_TAGCTC20NCG_RAGGTCANTCAAGGTCA_m2_c4_Cell2013\n",
      "chr11\t197643\t197667\tID11.101313\t7.2431692556129965\t-\tTFAP2C_DLX3_AY_TTGCAT40NTGG_NSCCNNNRGGCANNNNNNTAATKR_m1_c3\n",
      "chr11\t197590\t197611\tID11.101313\t8.564384939343485\t+\tGCM1_NHLH1_AX_TCTCGT40NGCC_NCAGCTGNNNNNNNNTRCGGG_m1_c3b1\n",
      "chr11\t198078\t198097\tID11.101318\t6.829718657447657\t+\tRFX3_FIGLA_AY_TCGGCA40NAGC_TRGYAACNNNNCASSTGNN_m1_c3\n",
      "chr11\t198152\t198180\tID11.101323\t8.36643735228331\t-\tTEAD4_RFX5_AY_TCGGTT40NTGT_RCATTCNNNNNNNNNNNNNNNNGCAACN_m1_c2\n",
      "chr11\t198430\t198443\tID11.101323\t7.2905647531827045\t+\tELK1_EOMES_AAA_TGAGTC40NAAC_TNRCACCGGAAGN_m1_c2\n",
      "chr11\t198159\t198178\tID11.101323\t8.708359675389916\t-\tGCM1_FIGLA_AX_TCGAAC40NGAT_CAGCTGNNNNNNCCCGCAY_m1_c3\n",
      "chr11\t198306\t198325\tID11.101323\t5.608211532230028\t-\tGCM1_FIGLA_AX_TCGAAC40NGAT_CAGCTGNNNNNNCCCGCAY_m1_c3\n",
      "chr11\t198158\t198179\tID11.101323\t7.345400391152796\t+\tGCM1_NHLH1_AX_TCTCGT40NGCC_NCAGCTGNNNNNNNNTRCGGG_m1_c3b1\n",
      "chr11\t198453\t198474\tID11.101323\t8.187905055305954\t+\tGCM1_NHLH1_AX_TCTCGT40NGCC_NCAGCTGNNNNNNNNTRCGGG_m1_c3b1\n",
      "chr11\t198713\t198732\tID11.101328\t6.200759869941106\t-\tRFX3_FIGLA_AY_TCGGCA40NAGC_TRGYAACNNNNCASSTGNN_m1_c3\n",
      "chr11\t198761\t198780\tID11.101328\t6.9435952005871275\t-\tRFX3_FIGLA_AY_TCGGCA40NAGC_TRGYAACNNNNCASSTGNN_m1_c3\n",
      "chr11\t198430\t198443\tID11.101328\t7.2905647531827045\t+\tELK1_EOMES_AAA_TGAGTC40NAAC_TNRCACCGGAAGN_m1_c2\n",
      "chr11\t198699\t198725\tID11.101328\t5.353592056691582\t-\tE2F1_NHLH1_AX_TGCTTT40NAGA_SGCGCCNNNNNNNNNNNNCAGCTGNN_m1_c3b1\n",
      "chr11\t198709\t198732\tID11.101328\t11.471414661243013\t+\tTFAP2C_HES7_AY_TGTGAA40NTAC_NNCRCGYGNNNNNNSCCNNNGGS_m1_c3\n",
      "chr11\t198489\t198507\tID11.101328\t0.7733664721266744\t+\tE2F2_W_TACTCA20NCG_NNTTTTGGCGCCAAAANN_m2_c4_Cell2013\n",
      "chr11\t198743\t198764\tID11.101328\t7.056983572604988\t-\tGCM1_NHLH1_AX_TCTCGT40NGCC_NCAGCTGNNNNNNNNTRCGGG_m1_c3b1\n",
      "chr11\t198453\t198474\tID11.101328\t8.187905055305954\t+\tGCM1_NHLH1_AX_TCTCGT40NGCC_NCAGCTGNNNNNNNNTRCGGG_m1_c3b1\n",
      "chr11\t198972\t198990\tID11.101333\t6.4189394315354305\t-\tTp53_AK_TCGGGG20NGGT_ACAWGTCNNNNRACAWGT_m2_c4_Cell2013\n",
      "chr11\t198972\t198990\tID11.101333\t6.974611721540448\t+\tTp53_AK_TCGGGG20NGGT_ACAWGTCNNNNRACAWGT_m2_c4_Cell2013\n",
      "chr11\t198969\t198992\tID11.101333\t7.764749908647961\t-\tTFAP2C_HES7_AY_TGTGAA40NTAC_NNCRCGYGNNNNNNSCCNNNGGS_m1_c3\n",
      "chr11\t199264\t199282\tID11.101338\t6.007880851711616\t+\tTp53_AK_TCGGGG20NGGT_ACAWGTCNNNNRACAWGT_m2_c4_Cell2013\n",
      "chr11\t199402\t199416\tID11.101338\t7.0845273557209385\t-\tGCM1_HOXA13_AU_TCCACT40NTGT_RKRNGGGNNATAAA_m1_c2\n",
      "chr11\t199602\t199619\tID11.101338\t-6.077149023029731\t-\tFOXG1_AA_TGGTTC20NGA_ATAAACAANWGTAAACA_m2_c4_Cell2013\n",
      "chr11\t199252\t199268\tID11.101338\t6.963751278668777\t-\tGCM1_AE_TCCAGT20NGAC_ATGCGGGYRCCCGCAT_m2_c4_Cell2013\n",
      "chr11\t199252\t199268\tID11.101338\t7.042624655430362\t+\tGCM1_AE_TCCAGT20NGAC_ATGCGGGYRCCCGCAT_m2_c4_Cell2013\n",
      "chr11\t199460\t199479\tID11.101338\t4.730774750302185\t-\tGCM1_FIGLA_AX_TCGAAC40NGAT_CAGCTGNNNNNNCCCGCAY_m1_c3\n",
      "chr11\t199633\t199645\tID11.101338\t6.721037282792694\t-\tFoxg1_AF_TATCTG20NTCG_NMGGACACAATC_m2_c4_Cell2013\n",
      "chr11\t199443\t199466\tID11.101338\t8.469447925858283\t-\tTFAP2C_HES7_AY_TGTGAA40NTAC_NNCRCGYGNNNNNNSCCNNNGGS_m1_c3\n",
      "chr11\t199472\t199495\tID11.101338\t8.755904755008075\t+\tTFAP2C_HES7_AY_TGTGAA40NTAC_NNCRCGYGNNNNNNSCCNNNGGS_m1_c3\n",
      "chr11\t199539\t199556\tID11.101338\t-0.4769405694413694\t-\tEsrra_AC_TAGCTC20NCG_RAGGTCANTCAAGGTCA_m2_c4_Cell2013\n",
      "chr11\t199608\t199625\tID11.101338\t-2.241701098489095\t-\tEsrra_AC_TAGCTC20NCG_RAGGTCANTCAAGGTCA_m2_c4_Cell2013\n",
      "chr11\t200065\t200084\tID11.101343\t3.36557075531854\t+\tETV2_ONECUT2_AAA_TACTAC40NGCC_RCCGGAANNNNNATCGATN_m1_c3\n",
      "chr11\t199964\t199983\tID11.101343\t3.7542943304811525\t+\tESRRA_AI_TGACGA30NGCA_SAAGGTCANNTSAAGGTCA_m2_c4_Cell2013\n",
      "chr11\t200018\t200038\tID11.101343\t6.900969670525427\t+\tHOXB2_RFX5_AY_TGCTCT40NTTA_SYMATTANNNNNNRGCAACN_m1_c2\n",
      "chr11\t199892\t199911\tID11.101343\t7.517736213908389\t+\tGCM1_FIGLA_AX_TCGAAC40NGAT_CAGCTGNNNNNNCCCGCAY_m1_c3\n",
      "chr11\t200099\t200118\tID11.101343\t5.8092209668357\t+\tGCM1_FIGLA_AX_TCGAAC40NGAT_CAGCTGNNNNNNCCCGCAY_m1_c3\n",
      "chr11\t199945\t199962\tID11.101343\t3.398453316735931\t+\tEsrra_AC_TAGCTC20NCG_RAGGTCANTCAAGGTCA_m2_c4_Cell2013\n",
      "chr11\t200635\t200648\tID11.101348\t7.3975442283356845\t+\tGCM1_SPDEF_AX_TTCTAC40NCGA_RTGNKGGCGGAWG_m1_c3u\n",
      "chr11\t200498\t200518\tID11.101348\t7.703051473065966\t-\tHOXB2_RFX5_AY_TGCTCT40NTTA_SYMATTANNNNNNRGCAACN_m1_c2\n",
      "chr11\t200306\t200329\tID11.101348\t9.873113546067483\t+\tTFAP2C_HES7_AY_TGTGAA40NTAC_NNCRCGYGNNNNNNSCCNNNGGS_m1_c3\n",
      "chr11\t200662\t200685\tID11.101353\t6.477263840482035\t-\tMYBL1_MAX_AX_TCCTTG40NGGT_YAACGGNNNNNNNNNNNCACGTG_m1_c2\n",
      "chr11\t200835\t200853\tID11.101353\t5.812920949091525\t+\tTp53_AK_TCGGGG20NGGT_ACAWGTCNNNNRACAWGT_m2_c4_Cell2013\n",
      "chr11\t200836\t200851\tID11.101353\t9.960870401328293\t+\tHNF4A_AI_TCCGTG40NTGC_RRGTCCAAAGGTCAA_m1_c3_Cell2013\n",
      "chr11\t200635\t200648\tID11.101353\t7.3975442283356845\t+\tGCM1_SPDEF_AX_TTCTAC40NCGA_RTGNKGGCGGAWG_m1_c3u\n",
      "chr11\t200498\t200518\tID11.101353\t7.703051473065966\t-\tHOXB2_RFX5_AY_TGCTCT40NTTA_SYMATTANNNNNNRGCAACN_m1_c2\n",
      "chr11\t200664\t200687\tID11.101353\t7.765116535619535\t+\tTFAP2C_HES7_AY_TGTGAA40NTAC_NNCRCGYGNNNNNNSCCNNNGGS_m1_c3\n",
      "chr11\t201301\t201318\tID11.101358\t0.6451641136467361\t+\tFOXG1_AA_TGGTTC20NGA_ATAAACAANWGTAAACA_m2_c4_Cell2013\n",
      "chr11\t201314\t201331\tID11.101358\t-4.883439314023249\t+\tFOXG1_AA_TGGTTC20NGA_ATAAACAANWGTAAACA_m2_c4_Cell2013\n",
      "chr11\t201976\t201988\tID11.101369\t8.37564473889593\t-\tFoxg1_AF_TATCTG20NTCG_NMGGACACAATC_m2_c4_Cell2013\n",
      "chr11\t202167\t202188\tID11.101375\t6.5933890513807665\t-\tGCM1_NHLH1_AX_TCTCGT40NGCC_NCAGCTGNNNNNNNNTRCGGG_m1_c3b1\n",
      "chr11\t202225\t202238\tID11.10138\t8.976120781133243\t-\tMGA_PITX1_AAD_TTCATT40NTAT_RGGTGNTAAKCCN_m1_c2\n",
      "chr11\t202238\t202254\tID11.10138\t9.255497168435806\t+\tPOU2F1_HOXB13_AX_TACATT40NTAC_NRMATATACCAATAAA_m2_c2\n",
      "chr11\t202167\t202188\tID11.10138\t6.5933890513807665\t-\tGCM1_NHLH1_AX_TCTCGT40NGCC_NCAGCTGNNNNNNNNTRCGGG_m1_c3b1\n",
      "chr11\t202519\t202536\tID11.101391\t-2.3590474276672273\t-\tFOXG1_AA_TGGTTC20NGA_ATAAACAANWGTAAACA_m2_c4_Cell2013\n",
      "chr11\t202769\t202778\tID11.101402\t8.118049225635039\t+\tRhox11_P_TGGCCC20NCG_NGCTGTWAN_m1_c4_Cell2013\n",
      "chr11\t202824\t202833\tID11.101402\t8.118049225635039\t+\tRhox11_P_TGGCCC20NCG_NGCTGTWAN_m1_c4_Cell2013\n",
      "chr11\t203455\t203474\tID11.101419\t9.623323963188101\t+\tRFX3_FIGLA_AY_TCGGCA40NAGC_TRGYAACNNNNCASSTGNN_m1_c3\n",
      "chr11\t203580\t203597\tID11.101419\t-0.7516455266248021\t+\tETV2_NHLH1_AAA_TGAGAG40NCGC_NGCAGCTGCCGGAWRYN_m1_c3\n",
      "chr11\t203433\t203449\tID11.101419\t7.4996731092324485\t-\tGCM1_AE_TCCAGT20NGAC_ATGCGGGYRCCCGCAT_m2_c4_Cell2013\n",
      "chr11\t203548\t203564\tID11.101419\t7.543412105689293\t-\tGCM1_AE_TCCAGT20NGAC_ATGCGGGYRCCCGCAT_m2_c4_Cell2013\n",
      "chr11\t203433\t203449\tID11.101419\t7.16798385193946\t+\tGCM1_AE_TCCAGT20NGAC_ATGCGGGYRCCCGCAT_m2_c4_Cell2013\n",
      "chr11\t203548\t203564\tID11.101419\t7.277474062024698\t+\tGCM1_AE_TCCAGT20NGAC_ATGCGGGYRCCCGCAT_m2_c4_Cell2013\n",
      "chr11\t203627\t203645\tID11.101419\t7.894521115006877\t+\tTEAD4_ALX4_AY_TGGCAA40NACT_GGAATGNNNNNYTAATTA_m1_c3\n"
     ]
    }
   ],
   "metadata": {}
  }
 ],
 "metadata": {
  "orig_nbformat": 4,
  "language_info": {
   "name": "python",
   "version": "3.9.7",
   "mimetype": "text/x-python",
   "codemirror_mode": {
    "name": "ipython",
    "version": 3
   },
   "pygments_lexer": "ipython3",
   "nbconvert_exporter": "python",
   "file_extension": ".py"
  },
  "kernelspec": {
   "name": "python3",
   "display_name": "Python 3.9.7 64-bit ('3.9.7': pyenv)"
  },
  "interpreter": {
   "hash": "72a66ab61caac5f0291fd728f3ab7736711cf078fef08edd42c58c2ff1f41239"
  }
 },
 "nbformat": 4,
 "nbformat_minor": 2
}