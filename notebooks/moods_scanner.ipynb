{
 "cells": [
  {
   "cell_type": "markdown",
   "source": [
    "# Load SELEX Matricies and Run MOODS from Python\n",
    "\n",
    "We're going to load the SELEX matricies from Regulation into Python, and output them as nicely formatted JSON. Then we'll select the first 50 matricies, and use this to scan some enhancer sequences (also loaded into Python, not using the file system)."
   ],
   "metadata": {}
  },
  {
   "cell_type": "code",
   "execution_count": 1,
   "source": [
    "import os\n",
    "import itertools\n",
    "import csv\n",
    "import random\n",
    "import json\n",
    "from multiprocessing import Pool\n",
    "from pathlib import Path\n",
    "from tfbs.pfm_reader import pfm_reader, PFM\n",
    "from tfbs.moods import PWM, Scanner, iter_fasta\n"
   ],
   "outputs": [],
   "metadata": {}
  },
  {
   "cell_type": "code",
   "execution_count": 2,
   "source": [
    "SELEX = Path(\"/home/malcolm/Data/Regulation/PWMs/SELEX\")\n",
    "\n",
    "# build an iterator that makes everything look like one big file\n",
    "def load_pfms(d: Path):\n",
    "    for pfm_file in d.iterdir():\n",
    "        with open(pfm_file) as f:\n",
    "            yield [pfm_file.stem, *f.readlines()]\n",
    "\n",
    "\n",
    "pfm_iter = pfm_reader(itertools.chain.from_iterable(load_pfms(SELEX / \"matrices\")))\n",
    "\n",
    "# read in SELEX PFMs and index by file name\n",
    "SELEX_pfms = [PFM(id=info[0], PFM=pfm) for info, pfm in pfm_iter]\n",
    "\n",
    "SELEX_pfms[50].dict()\n"
   ],
   "outputs": [
    {
     "output_type": "execute_result",
     "data": {
      "text/plain": [
       "{'id': 'NR1I3_KL_TTTAGC40NGAC_AGTTCANNNNAGTTCA_m1_c3b1_elife2014',\n",
       " 'PFM': [[248, 5, 8, 74, 12, 248, 46, 57, 70, 70, 248, 0, 12, 61, 26, 248],\n",
       "  [16, 17, 0, 55, 248, 12, 75, 63, 46, 41, 23, 7, 1, 42, 248, 30],\n",
       "  [92, 248, 127, 158, 34, 174, 57, 91, 61, 64, 99, 248, 92, 101, 24, 183],\n",
       "  [11, 5, 248, 248, 94, 30, 70, 36, 70, 72, 2, 4, 248, 248, 81, 30]],\n",
       " 'metadata': {}}"
      ]
     },
     "metadata": {},
     "execution_count": 2
    }
   ],
   "metadata": {}
  },
  {
   "cell_type": "markdown",
   "source": [
    "From here we can serialize everything as JSON:"
   ],
   "metadata": {}
  },
  {
   "cell_type": "code",
   "execution_count": 3,
   "source": [
    "with open(SELEX / \"selex.json\", 'w') as jsonfile:\n",
    "    json.dump([pfm.dict() for pfm in SELEX_pfms], jsonfile, indent=4)"
   ],
   "outputs": [],
   "metadata": {}
  },
  {
   "cell_type": "markdown",
   "source": [
    "And then read it back in:"
   ],
   "metadata": {}
  },
  {
   "cell_type": "code",
   "execution_count": 4,
   "source": [
    "with open(SELEX / \"selex.json\") as jsonfile:\n",
    "    pfms = [PFM(**item) for item in json.load(jsonfile)]\n",
    "\n",
    "pfms[50].dict()"
   ],
   "outputs": [
    {
     "output_type": "execute_result",
     "data": {
      "text/plain": [
       "{'id': 'NR1I3_KL_TTTAGC40NGAC_AGTTCANNNNAGTTCA_m1_c3b1_elife2014',\n",
       " 'PFM': [[248, 5, 8, 74, 12, 248, 46, 57, 70, 70, 248, 0, 12, 61, 26, 248],\n",
       "  [16, 17, 0, 55, 248, 12, 75, 63, 46, 41, 23, 7, 1, 42, 248, 30],\n",
       "  [92, 248, 127, 158, 34, 174, 57, 91, 61, 64, 99, 248, 92, 101, 24, 183],\n",
       "  [11, 5, 248, 248, 94, 30, 70, 36, 70, 72, 2, 4, 248, 248, 81, 30]],\n",
       " 'metadata': {}}"
      ]
     },
     "metadata": {},
     "execution_count": 4
    }
   ],
   "metadata": {}
  },
  {
   "cell_type": "markdown",
   "source": [
    "Now we can select the PWMs we want to scan, in this case 50 random PWMs from the SELEX data:"
   ],
   "metadata": {}
  },
  {
   "cell_type": "code",
   "execution_count": 5,
   "source": [
    "chosen_pfms = random.choices(SELEX_pfms, k=50)\n"
   ],
   "outputs": [],
   "metadata": {}
  },
  {
   "cell_type": "code",
   "execution_count": 6,
   "source": [
    "PWMs = [PWM(p.PFM, p.id, threshold=(\"pvalue\", 0.0001)) for p in chosen_pfms]"
   ],
   "outputs": [],
   "metadata": {}
  },
  {
   "cell_type": "markdown",
   "source": [
    "Build the Scanner object:"
   ],
   "metadata": {}
  },
  {
   "cell_type": "code",
   "execution_count": 7,
   "source": [
    "s = Scanner(PWMs)"
   ],
   "outputs": [],
   "metadata": {}
  },
  {
   "cell_type": "markdown",
   "source": [
    "Read in the fasta sequences:"
   ],
   "metadata": {}
  },
  {
   "cell_type": "code",
   "execution_count": 8,
   "source": [
    "seqs = iter_fasta(Path.home() / \"Projects/Enhancers/pwms/fasta/ENCFF503GCK_chr11.fa\")\n",
    "\n",
    "def scan(fa: tuple[str, str]): return s.scan(fa)\n",
    "\n",
    "with Pool(16) as p:\n",
    "    results = list(p.map(scan, seqs))\n"
   ],
   "outputs": [],
   "metadata": {}
  },
  {
   "cell_type": "markdown",
   "source": [
    "Now we have a list of hits for each sequence:"
   ],
   "metadata": {}
  },
  {
   "cell_type": "code",
   "execution_count": 9,
   "source": [
    "results[:10]"
   ],
   "outputs": [
    {
     "output_type": "execute_result",
     "data": {
      "text/plain": [
       "[{'header': 'chr11:87214:87280:ID11.100666', 'hits': []},\n",
       " {'header': 'chr11:87240:87307:ID11.100675', 'hits': []},\n",
       " {'header': 'chr11:108018:108077:ID11.10073',\n",
       "  'hits': [Hit(TF='HOXB2_PITX1_AY_TGGCCT40NTAT_TAATKRNGGATTA_m1_c3', start=32, end=45, score=7.967856907398772, strand='+')]},\n",
       " {'header': 'chr11:108060:108095:ID11.10078', 'hits': []},\n",
       " {'header': 'chr11:110913:111017:ID11.10083',\n",
       "  'hits': [Hit(TF='TEAD4_HOXB13_AY_TCTATG40NTAG_RRAATGCARTAAA_m1_c3', start=62, end=75, score=6.840922442303286, strand='-')]},\n",
       " {'header': 'chr11:128422:128507:ID11.100883',\n",
       "  'hits': [Hit(TF='MEIS1_MAX_AT_TATCTG40NTCG_NTGACRNNNNNNCACGTGN_m1_c3', start=58, end=77, score=5.386541986282942, strand='-')]},\n",
       " {'header': 'chr11:130594:130654:ID11.100888', 'hits': []},\n",
       " {'header': 'chr11:131180:131340:ID11.100893',\n",
       "  'hits': [Hit(TF='ETV2_SREBF2_AAA_TAAAGT40NAGC_RTMRCGTGACGGAWGN_m1_c2', start=82, end=98, score=6.435413149516675, strand='-'),\n",
       "   Hit(TF='HOXB2_ETV7_AY_TGAGGT40NTCC_NSCGGAARNNNNNNMATTAN_m1_c3', start=56, end=76, score=6.308213098663654, strand='-')]},\n",
       " {'header': 'chr11:132586:132706:ID11.100898',\n",
       "  'hits': [Hit(TF='CUX1_SOX15_AY_TGCTTC40NTTA_NATCRATNNNNNNNAACAATRS_m1_c3b0', start=13, end=35, score=7.258471089670726, strand='+')]},\n",
       " {'header': 'chr11:146780:146870:ID11.10107',\n",
       "  'hits': [Hit(TF='FOXJ2_HOXB13_AAF_TACGCA40NAAT_NTTTATNRNTMAACA_m1_c2', start=66, end=81, score=7.347840094955376, strand='-'),\n",
       "   Hit(TF='MGA_DLX2_AAD_TGCGGT40NTCA_SYAATTANWGGTGYGA_m2_c2u', start=25, end=41, score=9.356341186301758, strand='-')]}]"
      ]
     },
     "metadata": {},
     "execution_count": 9
    }
   ],
   "metadata": {}
  },
  {
   "cell_type": "markdown",
   "source": [
    "We can output or store this however we want, in this case we can convert to chromosomal co-ordinates in a BED-like file:\n",
    "\n",
    "NB I have no idea if the MOODS output is 0 or 1 based, we will have to test this."
   ],
   "metadata": {}
  },
  {
   "cell_type": "code",
   "execution_count": 10,
   "source": [
    "header = [\"chr\", \"start\", \"end\", \"name\", \"score\", \"strand\", \"PWM\"]\n",
    "\n",
    "print(\"\\t\".join(header))\n",
    "\n",
    "for r in results[:50]:\n",
    "    chrom, start, end, name = r['header'].split(':')\n",
    "    for h in r['hits']:\n",
    "        h_start = int(start) + h.start\n",
    "        h_end = int(start) + h.end\n",
    "        print(\"\\t\".join(map(str, [chrom, h_start, h_end, name, h.score, h.strand, h.TF])))"
   ],
   "outputs": [
    {
     "output_type": "stream",
     "name": "stdout",
     "text": [
      "chr\tstart\tend\tname\tscore\tstrand\tPWM\n",
      "chr11\t108050\t108063\tID11.10073\t7.967856907398772\t+\tHOXB2_PITX1_AY_TGGCCT40NTAT_TAATKRNGGATTA_m1_c3\n",
      "chr11\t110975\t110988\tID11.10083\t6.840922442303286\t-\tTEAD4_HOXB13_AY_TCTATG40NTAG_RRAATGCARTAAA_m1_c3\n",
      "chr11\t128480\t128499\tID11.100883\t5.386541986282942\t-\tMEIS1_MAX_AT_TATCTG40NTCG_NTGACRNNNNNNCACGTGN_m1_c3\n",
      "chr11\t131262\t131278\tID11.100893\t6.435413149516675\t-\tETV2_SREBF2_AAA_TAAAGT40NAGC_RTMRCGTGACGGAWGN_m1_c2\n",
      "chr11\t131236\t131256\tID11.100893\t6.308213098663654\t-\tHOXB2_ETV7_AY_TGAGGT40NTCC_NSCGGAARNNNNNNMATTAN_m1_c3\n",
      "chr11\t132599\t132621\tID11.100898\t7.258471089670726\t+\tCUX1_SOX15_AY_TGCTTC40NTTA_NATCRATNNNNNNNAACAATRS_m1_c3b0\n",
      "chr11\t146846\t146861\tID11.10107\t7.347840094955376\t-\tFOXJ2_HOXB13_AAF_TACGCA40NAAT_NTTTATNRNTMAACA_m1_c2\n",
      "chr11\t146805\t146821\tID11.10107\t9.356341186301758\t-\tMGA_DLX2_AAD_TGCGGT40NTCA_SYAATTANWGGTGYGA_m2_c2u\n",
      "chr11\t175109\t175137\tID11.101262\t9.614079968208154\t+\tTEAD4_FOXI1_AX_TACATC40NATA_RCATWCCNNNNNNNNNNNNNNRTMAACA_m1_c3b1\n",
      "chr11\t175417\t175431\tID11.101264\t8.829791622442713\t+\tNR2C2_Z_TCGACT20NCAT_RRGGTCAAAGGTCA_m2_c3_Cell2013\n",
      "chr11\t175928\t175942\tID11.101266\t6.859186488074953\t+\tNR2C2_Z_TCGACT20NCAT_RRGGTCAAAGGTCA_m2_c3_Cell2013\n",
      "chr11\t175928\t175942\tID11.101269\t6.859186488074953\t+\tNR2C2_Z_TCGACT20NCAT_RRGGTCAAAGGTCA_m2_c3_Cell2013\n",
      "chr11\t176171\t176185\tID11.101271\t12.035858021644612\t+\tNR2C2_Z_TCGACT20NCAT_RRGGTCAAAGGTCA_m2_c3_Cell2013\n",
      "chr11\t176178\t176192\tID11.101271\t10.397895768818401\t+\tNR2C2_Z_TCGACT20NCAT_RRGGTCAAAGGTCA_m2_c3_Cell2013\n",
      "chr11\t176210\t176224\tID11.101271\t10.424377098027058\t+\tNR2C2_Z_TCGACT20NCAT_RRGGTCAAAGGTCA_m2_c3_Cell2013\n",
      "chr11\t176241\t176255\tID11.101271\t7.3999866231284255\t+\tNR2C2_Z_TCGACT20NCAT_RRGGTCAAAGGTCA_m2_c3_Cell2013\n",
      "chr11\t176322\t176336\tID11.101271\t8.092695678007752\t+\tNR2C2_Z_TCGACT20NCAT_RRGGTCAAAGGTCA_m2_c3_Cell2013\n",
      "chr11\t176180\t176196\tID11.101271\t5.120277762642283\t-\tGCM1_ELK3_AU_TTGGGT40NGGC_ACCCGCANCCGGAAGN_m2_c3\n",
      "chr11\t176199\t176215\tID11.101271\t4.735769399610699\t-\tGCM1_ELK3_AU_TTGGGT40NGGC_ACCCGCANCCGGAAGN_m2_c3\n",
      "chr11\t176237\t176253\tID11.101271\t6.209255245428006\t-\tGCM1_ELK3_AU_TTGGGT40NGGC_ACCCGCANCCGGAAGN_m2_c3\n",
      "chr11\t176243\t176259\tID11.101271\t5.84568580542045\t-\tGCM1_ELK3_AU_TTGGGT40NGGC_ACCCGCANCCGGAAGN_m2_c3\n",
      "chr11\t176271\t176286\tID11.101271\t0.828113592107296\t-\tIRF4_AD_TCAAGG20NCG_NCGAAACCGAAACYN_m1_c3_Cell2013\n",
      "chr11\t176170\t176187\tID11.101271\t3.525246705781515\t-\tZNF282_AC_TGCCTG20NGA_CTTTCCCMYAACACKNN_m2_c4_Cell2013\n",
      "chr11\t176177\t176194\tID11.101271\t4.02976471820161\t-\tZNF282_AC_TGCCTG20NGA_CTTTCCCMYAACACKNN_m2_c4_Cell2013\n",
      "chr11\t180622\t180637\tID11.101276\t3.484231661282201\t-\tFOXJ2_ELF1_AAF_TAAGAT40NATG_RMAGAAAACCGAANN_m1_c2\n",
      "chr11\t184449\t184464\tID11.101279\t5.394434798518857\t+\tHESX1_Z_TCTTCT20NCTG_NTAATTRGYAATTAN_m2_c3_Cell2013\n",
      "chr11\t189570\t189589\tID11.101286\t6.503018773797854\t-\tMEIS1_MAX_AT_TATCTG40NTCG_NTGACRNNNNNNCACGTGN_m1_c3\n",
      "chr11\t190370\t190386\tID11.101288\t7.639152915208058\t-\tMGA_DLX2_AAD_TGCGGT40NTCA_SYAATTANWGGTGYGA_m2_c2u\n",
      "chr11\t190354\t190369\tID11.101288\t0.8629621225227941\t-\tIRF4_AD_TCAAGG20NCG_NCGAAACCGAAACYN_m1_c3_Cell2013\n",
      "chr11\t191852\t191866\tID11.101292\t8.829791622442713\t+\tNR2C2_Z_TCGACT20NCAT_RRGGTCAAAGGTCA_m2_c3_Cell2013\n",
      "chr11\t191859\t191873\tID11.101292\t8.515872454691475\t+\tNR2C2_Z_TCGACT20NCAT_RRGGTCAAAGGTCA_m2_c3_Cell2013\n",
      "chr11\t191861\t191877\tID11.101292\t5.84568580542045\t-\tGCM1_ELK3_AU_TTGGGT40NGGC_ACCCGCANCCGGAAGN_m2_c3\n",
      "chr11\t191858\t191875\tID11.101292\t7.040939011107548\t-\tZNF282_AC_TGCCTG20NGA_CTTTCCCMYAACACKNN_m2_c4_Cell2013\n",
      "chr11\t192335\t192353\tID11.101294\t8.066545555734823\t+\tGCM1_PITX1_AU_TCGAGC40NAAT_GGATTANNNNNNTGCGGG_m1_c3b1\n",
      "chr11\t192334\t192346\tID11.101294\t7.796197862458944\t-\tTFAP2A_AF_TTGCAC20NTA_NGCCNNNNGGCN_m1_c3_Cell2013\n",
      "chr11\t192334\t192346\tID11.101294\t7.762734419098749\t+\tTFAP2A_AF_TTGCAC20NTA_NGCCNNNNGGCN_m1_c3_Cell2013\n",
      "chr11\t192361\t192378\tID11.101294\t-7.136706480680102\t+\tBCL6B_AC_TGCGGG20NGA_TGCTTTCTAGGAATTMM_m2_c4_Cell2013\n",
      "chr11\t193633\t193645\tID11.101299\t9.859045553887102\t-\tTFAP2A_AF_TTGCAC20NTA_NGCCNNNNGGCN_m1_c3_Cell2013\n",
      "chr11\t193633\t193645\tID11.101299\t9.725521374175338\t+\tTFAP2A_AF_TTGCAC20NTA_NGCCNNNNGGCN_m1_c3_Cell2013\n",
      "chr11\t193653\t193665\tID11.101299\t7.936428853454725\t+\tZBTB7A_W_TGAATA20NGA_NGCGACCACCNN_m1_c4_Cell2013\n",
      "chr11\t197571\t197586\tID11.101313\t5.601229444962301\t-\tKlf12_Z_TGATGG20NGA_GRCCACGCCCWNNNN_m2_c4_Cell2013\n",
      "chr11\t197520\t197536\tID11.101313\t5.738553202187324\t+\tGCM1_ELK3_AU_TTGGGT40NGGC_ACCCGCANCCGGAAGN_m2_c3\n",
      "chr11\t197654\t197672\tID11.101313\t7.171349478694896\t+\tGCM1_PITX1_AU_TCGAGC40NAAT_GGATTANNNNNNTGCGGG_m1_c3b1\n",
      "chr11\t197344\t197358\tID11.101313\t6.525032113536157\t-\tEBF1_AC_TATAAG20NCG_NNTCCCNNGGGANN_m1_c3_Cell2013\n",
      "chr11\t197344\t197358\tID11.101313\t6.535853106512109\t+\tEBF1_AC_TATAAG20NCG_NNTCCCNNGGGANN_m1_c3_Cell2013\n",
      "chr11\t197277\t197292\tID11.101313\t7.167992749614998\t+\tPRDM1_AE_TTGAGG20NGAT_NRAAAGTGAAAGTGN_m2_c2_Cell2013\n",
      "chr11\t197344\t197356\tID11.101313\t8.933297757385175\t-\tTFAP2A_AF_TTGCAC20NTA_NGCCNNNNGGCN_m1_c3_Cell2013\n",
      "chr11\t197344\t197356\tID11.101313\t8.856737165542548\t+\tTFAP2A_AF_TTGCAC20NTA_NGCCNNNNGGCN_m1_c3_Cell2013\n",
      "chr11\t197479\t197490\tID11.101313\t8.14074401551707\t-\tTFAP2A_AF_TTGCAC20NTA_NSCCNNNGGSN_m1_c3_Cell2013\n",
      "chr11\t197479\t197490\tID11.101313\t8.117579556165923\t+\tTFAP2A_AF_TTGCAC20NTA_NSCCNNNGGSN_m1_c3_Cell2013\n",
      "chr11\t197360\t197380\tID11.101313\t8.192565712717222\t+\tTFAP4_DLX3_AW_TGGGTG40NGGA_NCAGSTGNNNNNNGTAATKR_m1_c3\n",
      "chr11\t197574\t197586\tID11.101313\t8.266895332161024\t-\tZBTB7A_W_TGAATA20NGA_NGCGACCACCNN_m1_c4_Cell2013\n",
      "chr11\t198027\t198045\tID11.101318\t7.806844452870155\t-\tMafb_AA_TCGTTA20NTTT_NNYGCTGACGTMAGCANN_m2_c4_Cell2013\n",
      "chr11\t198027\t198045\tID11.101318\t6.673929860008622\t+\tMafb_AA_TCGTTA20NTTT_NNYGCTGACGTMAGCANN_m2_c4_Cell2013\n",
      "chr11\t198347\t198362\tID11.101323\t6.83888598470593\t+\tE2F3_FOXI1_AAA_TCCTCT40NGTC_NNMCACCGCGCCCMN_m1_c3\n",
      "chr11\t198167\t198185\tID11.101323\t2.8235562962495773\t+\tRORB_KS_TTCGGG40NGAG_AANTAGGTCAGTAGGTCA_m2_c4_DimerNatureMono\n",
      "chr11\t198436\t198447\tID11.101323\t9.181480149479516\t-\tTFAP2A_AF_TTGCAC20NTA_NSCCNNNGGSN_m1_c3_Cell2013\n",
      "chr11\t198404\t198415\tID11.101323\t7.532959042150439\t+\tTFAP2A_AF_TTGCAC20NTA_NSCCNNNGGSN_m1_c3_Cell2013\n",
      "chr11\t198436\t198447\tID11.101323\t9.219998610964744\t+\tTFAP2A_AF_TTGCAC20NTA_NSCCNNNGGSN_m1_c3_Cell2013\n",
      "chr11\t198389\t198406\tID11.101323\t5.484040085634997\t+\tZNF282_AC_TGCCTG20NGA_CTTTCCCMYAACACKNN_m2_c4_Cell2013\n",
      "chr11\t198721\t198733\tID11.101328\t5.66276345956114\t-\tCREB3L1_AD_TAGAGT20NCG_TGCCACGTGGCA_m2_c4_Cell2013\n",
      "chr11\t198721\t198733\tID11.101328\t5.429557823446726\t+\tCREB3L1_AD_TAGAGT20NCG_TGCCACGTGGCA_m2_c4_Cell2013\n",
      "chr11\t198723\t198742\tID11.101328\t8.178340550700913\t+\tMEIS1_MAX_AT_TATCTG40NTCG_NTGACRNNNNNNCACGTGN_m1_c3\n",
      "chr11\t198619\t198637\tID11.101328\t8.63769261299974\t+\tGCM1_PITX1_AU_TCGAGC40NAAT_GGATTANNNNNNTGCGGG_m1_c3b1\n",
      "chr11\t198685\t198703\tID11.101328\t10.223954379011657\t+\tGCM1_PITX1_AU_TCGAGC40NAAT_GGATTANNNNNNTGCGGG_m1_c3b1\n",
      "chr11\t198436\t198447\tID11.101328\t9.181480149479516\t-\tTFAP2A_AF_TTGCAC20NTA_NSCCNNNGGSN_m1_c3_Cell2013\n",
      "chr11\t198404\t198415\tID11.101328\t7.532959042150439\t+\tTFAP2A_AF_TTGCAC20NTA_NSCCNNNGGSN_m1_c3_Cell2013\n",
      "chr11\t198436\t198447\tID11.101328\t9.219998610964744\t+\tTFAP2A_AF_TTGCAC20NTA_NSCCNNNGGSN_m1_c3_Cell2013\n",
      "chr11\t198721\t198733\tID11.101328\t5.66276345956114\t-\tCREB3L1_AD_TAGAGT20NCG_TGCCACGTGGCA_m2_c4_Cell2013\n",
      "chr11\t198721\t198733\tID11.101328\t5.429557823446726\t+\tCREB3L1_AD_TAGAGT20NCG_TGCCACGTGGCA_m2_c4_Cell2013\n",
      "chr11\t198389\t198406\tID11.101328\t5.484040085634997\t+\tZNF282_AC_TGCCTG20NGA_CTTTCCCMYAACACKNN_m2_c4_Cell2013\n",
      "chr11\t198568\t198580\tID11.101328\t7.593082859594375\t-\tZBTB7A_W_TGAATA20NGA_NGCGACCACCNN_m1_c4_Cell2013\n",
      "chr11\t199053\t199064\tID11.101333\t8.117579556165925\t-\tTFAP2A_AF_TTGCAC20NTA_NSCCNNNGGSN_m1_c3_Cell2013\n",
      "chr11\t199053\t199064\tID11.101333\t8.140744015517068\t+\tTFAP2A_AF_TTGCAC20NTA_NSCCNNNGGSN_m1_c3_Cell2013\n",
      "chr11\t199201\t199216\tID11.101338\t5.722142052479815\t+\tKlf12_Z_TGATGG20NGA_GRCCACGCCCWNNNN_m2_c4_Cell2013\n",
      "chr11\t199534\t199552\tID11.101338\t6.441607388608068\t-\tGCM1_PITX1_AU_TCGAGC40NAAT_GGATTANNNNNNTGCGGG_m1_c3b1\n",
      "chr11\t199483\t199498\tID11.101338\t7.018971074180279\t-\tE2F3_FOXI1_AAA_TCCTCT40NGTC_NNMCACCGCGCCCMN_m1_c3\n",
      "chr11\t199454\t199468\tID11.101338\t7.7810915826257405\t-\tEBF1_AC_TATAAG20NCG_NNTCCCNNGGGANN_m1_c3_Cell2013\n",
      "chr11\t199455\t199469\tID11.101338\t6.720119802014384\t-\tEBF1_AC_TATAAG20NCG_NNTCCCNNGGGANN_m1_c3_Cell2013\n",
      "chr11\t199454\t199468\tID11.101338\t7.542322546006476\t+\tEBF1_AC_TATAAG20NCG_NNTCCCNNGGGANN_m1_c3_Cell2013\n",
      "chr11\t199455\t199469\tID11.101338\t7.321823029623091\t+\tEBF1_AC_TATAAG20NCG_NNTCCCNNGGGANN_m1_c3_Cell2013\n",
      "chr11\t199402\t199418\tID11.101338\t5.600369778607441\t-\tGCM1_ONECUT2_AU_TCCAGG40NTAG_RTGCGGGNNATCGATR_m1_c3\n",
      "chr11\t199489\t199501\tID11.101338\t9.119428534400383\t-\tZBTB7A_W_TGAATA20NGA_NGCGACCACCNN_m1_c4_Cell2013\n",
      "chr11\t200065\t200084\tID11.101343\t3.36557075531854\t+\tETV2_ONECUT2_AAA_TACTAC40NGCC_RCCGGAANNNNNATCGATN_m1_c3\n",
      "chr11\t199952\t199967\tID11.101343\t7.161820440911635\t-\tKlf12_Z_TGATGG20NGA_GRCCACGCCCWNNNN_m2_c4_Cell2013\n",
      "chr11\t199997\t200017\tID11.101343\t7.243508934184784\t+\tTFAP4_DLX3_AW_TGGGTG40NGGA_NCAGSTGNNNNNNGTAATKR_m1_c3\n",
      "chr11\t200654\t200669\tID11.101348\t6.158057272371878\t-\tE2F3_FOXI1_AAA_TCCTCT40NGTC_NNMCACCGCGCCCMN_m1_c3\n",
      "chr11\t200551\t200579\tID11.101348\t9.2907706309049\t+\tTEAD4_FOXI1_AX_TACATC40NATA_RCATWCCNNNNNNNNNNNNNNRTMAACA_m1_c3b1\n",
      "chr11\t200676\t200688\tID11.101353\t10.772074573328494\t-\tCREB3L1_AD_TAGAGT20NCG_TGCCACGTGGCA_m2_c4_Cell2013\n",
      "chr11\t200676\t200688\tID11.101353\t10.935114507348612\t+\tCREB3L1_AD_TAGAGT20NCG_TGCCACGTGGCA_m2_c4_Cell2013\n",
      "chr11\t200837\t200851\tID11.101353\t8.53529164366919\t+\tNR2C2_Z_TCGACT20NCAT_RRGGTCAAAGGTCA_m2_c3_Cell2013\n",
      "chr11\t201009\t201028\tID11.101353\t5.90328818220817\t-\tPAX6_Y_TCCATA20NTAC_TTTYACGCWTGANTGMNYN_m2_c4_Cell2013\n",
      "chr11\t200654\t200669\tID11.101353\t6.158057272371878\t-\tE2F3_FOXI1_AAA_TCCTCT40NGTC_NNMCACCGCGCCCMN_m1_c3\n",
      "chr11\t200551\t200579\tID11.101353\t9.2907706309049\t+\tTEAD4_FOXI1_AX_TACATC40NATA_RCATWCCNNNNNNNNNNNNNNRTMAACA_m1_c3b1\n",
      "chr11\t200671\t200687\tID11.101353\t7.5072700759310385\t+\tETV2_SREBF2_AAA_TAAAGT40NAGC_RTMRCGTGACGGAWGN_m1_c2\n",
      "chr11\t200980\t200996\tID11.101353\t6.535481998414844\t-\tMGA_DLX2_AAD_TGCGGT40NTCA_SYAATTANWGGTGYGA_m2_c2u\n",
      "chr11\t200676\t200688\tID11.101353\t10.772074573328494\t-\tCREB3L1_AD_TAGAGT20NCG_TGCCACGTGGCA_m2_c4_Cell2013\n",
      "chr11\t200676\t200688\tID11.101353\t10.935114507348612\t+\tCREB3L1_AD_TAGAGT20NCG_TGCCACGTGGCA_m2_c4_Cell2013\n",
      "chr11\t201219\t201237\tID11.101358\t7.162951005480252\t+\tGCM1_PITX1_AU_TCGAGC40NAAT_GGATTANNNNNNTGCGGG_m1_c3b1\n",
      "chr11\t201681\t201702\tID11.101364\t6.594886256030755\t+\tETV2_RFX5_AAA_TGCTCT40NTTA_NACTTCCGGYNNNNGCAACSN_m2_c2\n",
      "chr11\t201710\t201724\tID11.101364\t6.815472317957402\t-\tNR2C2_Z_TCGACT20NCAT_RRGGTCAAAGGTCA_m2_c3_Cell2013\n",
      "chr11\t201595\t201610\tID11.101364\t9.772504088963856\t-\tE2F3_FOXI1_AAA_TCCTCT40NGTC_NNMCACCGCGCCCMN_m1_c3\n",
      "chr11\t201680\t201702\tID11.101364\t6.961110479116149\t-\tHOXB2_ELF1_AY_TTTAGG40NTCT_NNYMATTANNNNNNNGGAAGNN_m1_c3\n",
      "chr11\t201692\t201702\tID11.101364\t7.189406202656645\t-\tGABPA_AG_TGGCCC20NCCT_ACCGGAAGTN_m1_c4_Cell2013\n",
      "chr11\t201639\t201659\tID11.101364\t7.378090889544505\t+\tTFAP4_DLX3_AW_TGGGTG40NGGA_NCAGSTGNNNNNNGTAATKR_m1_c3\n",
      "chr11\t202042\t202059\tID11.101375\t4.133532185835333\t-\tZNF282_AC_TGCCTG20NGA_CTTTCCCMYAACACKNN_m2_c4_Cell2013\n",
      "chr11\t202075\t202092\tID11.101375\t5.1544228384138\t+\tZNF282_AC_TGCCTG20NGA_CTTTCCCMYAACACKNN_m2_c4_Cell2013\n",
      "chr11\t202382\t202403\tID11.101386\t8.420874508132936\t-\tETV2_RFX5_AAA_TGCTCT40NTTA_NACTTCCGGYNNNNGCAACSN_m2_c2\n",
      "chr11\t202382\t202393\tID11.101386\t8.987560999807318\t+\tSPDEF_AD_TCATTG20NCG_AMCCGGATGTN_m1_c3_Cell2013\n",
      "chr11\t202382\t202392\tID11.101386\t8.629798351705054\t+\tGABPA_AG_TGGCCC20NCCT_ACCGGAAGTN_m1_c4_Cell2013\n",
      "chr11\t202519\t202534\tID11.101391\t6.585935432212945\t-\tHESX1_Z_TCTTCT20NCTG_NTAATTRGYAATTAN_m2_c3_Cell2013\n",
      "chr11\t202519\t202534\tID11.101391\t6.9370012597589845\t+\tHESX1_Z_TCTTCT20NCTG_NTAATTRGYAATTAN_m2_c3_Cell2013\n",
      "chr11\t202508\t202523\tID11.101391\t6.724878730237363\t-\tPRDM1_AE_TTGAGG20NGAT_NRAAAGTGAAAGTGN_m2_c2_Cell2013\n",
      "chr11\t202759\t202773\tID11.101402\t6.218040322789573\t-\tNR2C2_Z_TCGACT20NCAT_RRGGTCAAAGGTCA_m2_c3_Cell2013\n",
      "chr11\t202657\t202676\tID11.101402\t6.850576611054853\t+\tTEAD4_CLOCK_AX_TCGGGC40NAAT_GGWATGNNNNNNCACGTGN_m1_c3\n",
      "chr11\t203203\t203218\tID11.101413\t8.865164418064913\t+\tPRDM1_AE_TTGAGG20NGAT_NRAAAGTGAAAGTGN_m2_c2_Cell2013\n",
      "chr11\t203492\t203509\tID11.101419\t5.474221846312434\t-\tZNF282_AC_TGCCTG20NGA_CTTTCCCMYAACACKNN_m2_c4_Cell2013\n"
     ]
    }
   ],
   "metadata": {}
  }
 ],
 "metadata": {
  "orig_nbformat": 4,
  "language_info": {
   "name": "python",
   "version": "3.9.7",
   "mimetype": "text/x-python",
   "codemirror_mode": {
    "name": "ipython",
    "version": 3
   },
   "pygments_lexer": "ipython3",
   "nbconvert_exporter": "python",
   "file_extension": ".py"
  },
  "kernelspec": {
   "name": "python3",
   "display_name": "Python 3.9.7 64-bit ('3.9.7': pyenv)"
  },
  "interpreter": {
   "hash": "72a66ab61caac5f0291fd728f3ab7736711cf078fef08edd42c58c2ff1f41239"
  }
 },
 "nbformat": 4,
 "nbformat_minor": 2
}