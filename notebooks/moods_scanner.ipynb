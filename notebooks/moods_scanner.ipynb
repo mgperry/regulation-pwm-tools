{
 "cells": [
  {
   "cell_type": "markdown",
   "metadata": {},
   "source": [
    "# Load SELEX Matricies and Run MOODS from Python\n",
    "\n",
    "We're going to load the SELEX matricies from Regulation into Python, and output them as nicely formatted JSON. Then we'll select the first 50 matricies, and use this to scan some enhancer sequences (also loaded into Python, not using the file system)."
   ]
  },
  {
   "cell_type": "code",
   "execution_count": null,
   "metadata": {},
   "outputs": [],
   "source": [
    "import itertools\n",
    "import random\n",
    "import json\n",
    "from multiprocessing import Pool\n",
    "from pathlib import Path\n",
    "\n",
    "from tfbs.pfm_reader import pfm_reader, PFM\n",
    "from tfbs.moods import Scanner\n",
    "from tfbs.utils import iter_fasta\n",
    "from tfbs.pwm import PWM"
   ]
  },
  {
   "cell_type": "code",
   "execution_count": null,
   "metadata": {},
   "outputs": [],
   "source": [
    "SELEX = Path(\"/home/malcolm/Data/Regulation/PWMs/SELEX\")\n",
    "\n",
    "# build an iterator that makes everything look like one big file\n",
    "def load_pfms(d: Path):\n",
    "    for pfm_file in d.iterdir():\n",
    "        with open(pfm_file) as f:\n",
    "            yield [pfm_file.stem, *f.readlines()]\n",
    "\n",
    "\n",
    "pfm_iter = pfm_reader(itertools.chain.from_iterable(load_pfms(SELEX / \"matrices\")))\n",
    "\n",
    "# read in SELEX PFMs and index by file name\n",
    "SELEX_pfms = [PFM(id=info[0], PFM=pfm) for info, pfm in pfm_iter]\n",
    "\n",
    "SELEX_pfms[50].dict()\n"
   ]
  },
  {
   "cell_type": "markdown",
   "metadata": {},
   "source": [
    "From here we can serialize everything as JSON:"
   ]
  },
  {
   "cell_type": "code",
   "execution_count": null,
   "metadata": {},
   "outputs": [],
   "source": [
    "with open(SELEX / \"selex.json\", 'w') as jsonfile:\n",
    "    json.dump([pfm.dict() for pfm in SELEX_pfms], jsonfile, indent=4)"
   ]
  },
  {
   "cell_type": "markdown",
   "metadata": {},
   "source": [
    "And then read it back in:"
   ]
  },
  {
   "cell_type": "code",
   "execution_count": null,
   "metadata": {},
   "outputs": [],
   "source": [
    "with open(SELEX / \"selex.json\") as jsonfile:\n",
    "    pfms = [PFM(**item) for item in json.load(jsonfile)]\n",
    "\n",
    "pfms[50].dict()"
   ]
  },
  {
   "cell_type": "markdown",
   "metadata": {},
   "source": [
    "Now we can select the PWMs we want to scan, in this case 50 random PWMs from the SELEX data:"
   ]
  },
  {
   "cell_type": "code",
   "execution_count": null,
   "metadata": {},
   "outputs": [],
   "source": [
    "chosen_pfms = random.choices(SELEX_pfms, k=50)\n"
   ]
  },
  {
   "cell_type": "code",
   "execution_count": null,
   "metadata": {},
   "outputs": [],
   "source": [
    "PWMs = [PWM(p.PFM, p.id, pvalue=1e-3) for p in chosen_pfms]"
   ]
  },
  {
   "cell_type": "markdown",
   "metadata": {},
   "source": [
    "Build the Scanner object:"
   ]
  },
  {
   "cell_type": "code",
   "execution_count": null,
   "metadata": {},
   "outputs": [],
   "source": [
    "s = Scanner(PWMs)"
   ]
  },
  {
   "cell_type": "markdown",
   "metadata": {},
   "source": [
    "Read in the fasta sequences:"
   ]
  },
  {
   "cell_type": "code",
   "execution_count": null,
   "metadata": {},
   "outputs": [],
   "source": [
    "seqs = iter_fasta(Path.home() / \"Data\" / \"Other Resources\" / \"vista\" / \"vista_20_04_21.fa\")\n",
    "\n",
    "def scan(fa: tuple[str, str]): return s.scan(fa)\n",
    "\n",
    "with Pool(16) as p:\n",
    "    results = list(p.map(scan, seqs))\n"
   ]
  },
  {
   "cell_type": "markdown",
   "metadata": {},
   "source": [
    "Now we have a list of hits for each sequence:"
   ]
  },
  {
   "cell_type": "code",
   "execution_count": null,
   "metadata": {},
   "outputs": [],
   "source": [
    "results[:10]"
   ]
  },
  {
   "cell_type": "markdown",
   "metadata": {},
   "source": [
    "We can output or store this however we want, in this case we can convert to chromosomal co-ordinates in a BED-like file:\n",
    "\n",
    "NB I have no idea if the MOODS output is 0 or 1 based, we will have to test this."
   ]
  },
  {
   "cell_type": "code",
   "execution_count": null,
   "metadata": {},
   "outputs": [],
   "source": [
    "header = [\"chr\", \"start\", \"end\", \"name\", \"score\", \"strand\", \"PWM\"]\n",
    "\n",
    "print(\"\\t\".join(header))\n",
    "\n",
    "for r in results[:50]:\n",
    "    chrom, start, end, name = r['header'].split(':')\n",
    "    for h in r['hits']:\n",
    "        h_start = int(start) + h.start\n",
    "        h_end = int(start) + h.end\n",
    "        print(\"\\t\".join(map(str, [chrom, h_start, h_end, name, h.score, h.strand, h.TF])))"
   ]
  }
 ],
 "metadata": {
  "interpreter": {
   "hash": "72a66ab61caac5f0291fd728f3ab7736711cf078fef08edd42c58c2ff1f41239"
  },
  "kernelspec": {
   "display_name": "Python 3.9.7 64-bit ('3.9.7': pyenv)",
   "name": "python3"
  },
  "language_info": {
   "codemirror_mode": {
    "name": "ipython",
    "version": 3
   },
   "file_extension": ".py",
   "mimetype": "text/x-python",
   "name": "python",
   "nbconvert_exporter": "python",
   "pygments_lexer": "ipython3",
   "version": "3.9.7"
  },
  "orig_nbformat": 4
 },
 "nbformat": 4,
 "nbformat_minor": 2
}
