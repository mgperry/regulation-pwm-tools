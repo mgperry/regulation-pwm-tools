{
 "cells": [
  {
   "cell_type": "markdown",
   "source": [
    "# Reading in various PFM datasets\n",
    "\n",
    "The closest thing to a standard we seem to have is to write PFMs to a single file, with 4 lines specifying the `[ACGT]` counts and bases 1..N preceeded by a header line, separated either by commas or tabs. The `pfm_reader` function expects a file (or set of lines) in this form. The header is split out into its component parts (which change depending on the source file), and the counts are split and then the number fields are extracted and turned into a matrix (technically `list[list[int]]`).\n",
    "\n",
    "The 'id' field I've created here is to match the IDs used in the ENCODE Fooprinting Paper [Veerstra et al., Nature 2020], it's very ad hoc and definitely not suitable for production use. It would also be possible to pull in metadata while we read in the PFMs and output that straight into the JSON, `ENSG` in particular would be very useful, as would filtering out non-human TFs."
   ],
   "metadata": {}
  },
  {
   "cell_type": "code",
   "execution_count": 1,
   "source": [
    "from pathlib import Path\n",
    "from tfbs.pfm_reader import pfm_reader, PFM"
   ],
   "outputs": [],
   "metadata": {}
  },
  {
   "cell_type": "code",
   "execution_count": 2,
   "source": [
    "pwms = Path.home() / \"Projects\" / \"Enhancers\" / \"pwms\""
   ],
   "outputs": [],
   "metadata": {}
  },
  {
   "cell_type": "code",
   "execution_count": 3,
   "source": [
    "jaspar_pfms = []\n",
    "\n",
    "with open(pwms / \"data/JASPAR2018_CORE_vertebrates_non-redundant_pfms_jaspar.txt\") as jaspar:\n",
    "    for info, pfm in pfm_reader(jaspar):\n",
    "\n",
    "        metadata = {\n",
    "            'jaspar_id': info[0],\n",
    "            'symbol': info[1],\n",
    "            'source': \"JASPAR2018\",\n",
    "        }\n",
    "        \n",
    "        pfm_id = info[1] + \"_\" + info[0]\n",
    "\n",
    "        jaspar_pfms.append(PFM(id=pfm_id, metadata=metadata, PFM=pfm))\n",
    "\n",
    "jaspar_pfms[1].dict()"
   ],
   "outputs": [
    {
     "output_type": "execute_result",
     "data": {
      "text/plain": [
       "{'id': 'Ahr::Arnt_MA0006.1',\n",
       " 'PFM': [[3, 0, 0, 0, 0, 0],\n",
       "  [8, 0, 23, 0, 0, 0],\n",
       "  [2, 23, 0, 23, 0, 24],\n",
       "  [11, 1, 1, 1, 24, 0]],\n",
       " 'metadata': {'jaspar_id': 'MA0006.1',\n",
       "  'symbol': 'Ahr::Arnt',\n",
       "  'source': 'JASPAR2018'}}"
      ]
     },
     "metadata": {},
     "execution_count": 3
    }
   ],
   "metadata": {}
  },
  {
   "cell_type": "code",
   "execution_count": 4,
   "source": [
    "hoco_pfms = []\n",
    "\n",
    "with open(pwms / \"data/HOCOMOCOv11_core_HUMAN_mono_jaspar_format.txt\") as hoco:\n",
    "    for info, pfm in pfm_reader(hoco):\n",
    "        pfm_id = info[0]\n",
    "        metadata = {'source': \"HOCOMOCOv11\"}\n",
    "        hoco_pfms.append(PFM(id=pfm_id, metadata=metadata, PFM=pfm))\n",
    "\n",
    "hoco_pfms[1].dict()"
   ],
   "outputs": [
    {
     "output_type": "execute_result",
     "data": {
      "text/plain": [
       "{'id': 'AIRE_HUMAN.H11MO.0.C',\n",
       " 'PFM': [[16, 8, 6, 2, 0, 13, 16, 15, 14, 21, 16, 9, 0, 0, 9, 3, 18, 17],\n",
       "  [11, 8, 6, 0, 0, 2, 4, 6, 3, 4, 2, 6, 1, 0, 4, 8, 1, 11],\n",
       "  [5, 6, 8, 36, 33, 1, 1, 6, 6, 6, 3, 3, 36, 40, 10, 8, 7, 4],\n",
       "  [9, 19, 21, 3, 8, 25, 20, 14, 18, 10, 20, 23, 4, 1, 18, 22, 15, 9]],\n",
       " 'metadata': {'source': 'HOCOMOCOv11'}}"
      ]
     },
     "metadata": {},
     "execution_count": 4
    }
   ],
   "metadata": {}
  },
  {
   "cell_type": "code",
   "execution_count": 5,
   "source": [
    "taipale_pfms = []\n",
    "\n",
    "tf_counter = {}\n",
    "\n",
    "def id_reg(symbol, tf_class):\n",
    "    stub = symbol + \"_\" + tf_class\n",
    "    i = tf_counter.get(stub, 0) + 1\n",
    "    tf_counter[stub] = i\n",
    "    return stub + \"_\" + str(i)\n",
    "\n",
    "with open(pwms / \"data/taipale_pwms.csv\") as taipale:\n",
    "    lines = taipale.readlines()[17:] # skip header\n",
    "\n",
    "    for info, pfm in pfm_reader(lines, delimiter=\",\"):\n",
    "        metadata = {\n",
    "            'symbol': info[0],\n",
    "            'tf_class': info[1],\n",
    "            'source': \"Taipale 2013\",\n",
    "        }\n",
    "\n",
    "        pfm_id = id_reg(info[0], info[1])\n",
    "\n",
    "        taipale_pfms.append(PFM(id=pfm_id, metadata=metadata, PFM=pfm))\n",
    "\n",
    "taipale_pfms[1].dict()"
   ],
   "outputs": [
    {
     "output_type": "execute_result",
     "data": {
      "text/plain": [
       "{'id': 'CTCF_C2H2_1',\n",
       " 'PFM': [[5423,\n",
       "   2600,\n",
       "   0,\n",
       "   64,\n",
       "   641,\n",
       "   46,\n",
       "   5823,\n",
       "   87,\n",
       "   0,\n",
       "   37,\n",
       "   10566,\n",
       "   90,\n",
       "   183,\n",
       "   2,\n",
       "   406,\n",
       "   2660,\n",
       "   4213],\n",
       "  [546,\n",
       "   371,\n",
       "   8052,\n",
       "   0,\n",
       "   9591,\n",
       "   10107,\n",
       "   5201,\n",
       "   7091,\n",
       "   8872,\n",
       "   49,\n",
       "   290,\n",
       "   1616,\n",
       "   5157,\n",
       "   0,\n",
       "   114,\n",
       "   4936,\n",
       "   3590],\n",
       "  [1733,\n",
       "   11366,\n",
       "   0,\n",
       "   12480,\n",
       "   8,\n",
       "   0,\n",
       "   207,\n",
       "   0,\n",
       "   1,\n",
       "   23,\n",
       "   1625,\n",
       "   9828,\n",
       "   0,\n",
       "   8472,\n",
       "   7463,\n",
       "   143,\n",
       "   2456],\n",
       "  [4208,\n",
       "   632,\n",
       "   505,\n",
       "   86,\n",
       "   46,\n",
       "   0,\n",
       "   241,\n",
       "   3888,\n",
       "   0,\n",
       "   14151,\n",
       "   1355,\n",
       "   764,\n",
       "   7952,\n",
       "   121,\n",
       "   2221,\n",
       "   9766,\n",
       "   1302]],\n",
       " 'metadata': {'symbol': 'CTCF', 'tf_class': 'C2H2', 'source': 'Taipale 2013'}}"
      ]
     },
     "metadata": {},
     "execution_count": 5
    }
   ],
   "metadata": {}
  },
  {
   "cell_type": "code",
   "execution_count": null,
   "source": [],
   "outputs": [],
   "metadata": {}
  }
 ],
 "metadata": {
  "orig_nbformat": 4,
  "language_info": {
   "name": "python",
   "version": "3.9.7",
   "mimetype": "text/x-python",
   "codemirror_mode": {
    "name": "ipython",
    "version": 3
   },
   "pygments_lexer": "ipython3",
   "nbconvert_exporter": "python",
   "file_extension": ".py"
  },
  "kernelspec": {
   "name": "python3",
   "display_name": "Python 3.9.7 64-bit ('3.9.7': pyenv)"
  },
  "interpreter": {
   "hash": "72a66ab61caac5f0291fd728f3ab7736711cf078fef08edd42c58c2ff1f41239"
  }
 },
 "nbformat": 4,
 "nbformat_minor": 2
}